{
 "cells": [
  {
   "cell_type": "markdown",
   "id": "089f17a4",
   "metadata": {},
   "source": [
    "<h1>Data Science Tools and Ecosystem</h1>"
   ]
  },
  {
   "cell_type": "markdown",
   "id": "99c0fa26",
   "metadata": {},
   "source": [
    "<p>In this notebook, Data Science Tools and Ecosystem are summarized.</p>"
   ]
  },
  {
   "cell_type": "markdown",
   "id": "5091cf5e",
   "metadata": {},
   "source": [
    "<p>Some of the popular languages that Data Scientists use are:</p>\n",
    "<ol>\n",
    "    <li>Python</li>\n",
    "    <li>R</li>\n",
    "    <li>SQL</li>\n",
    "    <li>Julia</li>\n",
    "    <li>Scala</li>\n",
    "</ol>"
   ]
  },
  {
   "cell_type": "markdown",
   "id": "b73291fb",
   "metadata": {},
   "source": [
    "<p>Some of the commonly used libraries used by Data Scientists include:</p>\n",
    "<ol>\n",
    "    <li>Pandas</li>\n",
    "    <li>Numpy</li>\n",
    "    <li>Matplotlib</li>\n",
    "    <li>Scikit-learn</li>\n",
    "    <li>TensorFlow</li>\n",
    "    <li>Seaborn</li>\n",
    "</ol>"
   ]
  },
  {
   "cell_type": "markdown",
   "id": "5dcd721d",
   "metadata": {},
   "source": [
    "| Data Science Tools   |\n",
    "|--------|\n",
    "| Jupyter Notebooks  |\n",
    "| RStudio    |\n",
    "| Apache Spark |"
   ]
  },
  {
   "cell_type": "markdown",
   "id": "c4b535ab",
   "metadata": {},
   "source": [
    "<h3>Below are a few examples of evaluating arithmetic expressions in Python</h3>\n",
    "<p>Addition: 2 + 3 = 5</p>\n",
    "<p>Subtraction:  5 - 2 = 3</p>\n",
    "<p>Multiplication:  3 * 4 = 12</p>\n",
    "<p>Division:  10 / 2 = 5</p>\n",
    "<p>Exponentiation:  2 ** 3 = 8</p>\n",
    "<p>Modulo (Remainder):  10 % 3 = 1</p>"
   ]
  },
  {
   "cell_type": "code",
   "execution_count": 3,
   "id": "5993e2c2",
   "metadata": {},
   "outputs": [
    {
     "data": {
      "text/plain": [
       "17"
      ]
     },
     "execution_count": 3,
     "metadata": {},
     "output_type": "execute_result"
    }
   ],
   "source": [
    "# This a simple arithmetic expression to mutiply then add integers\n",
    "\n",
    "(3*4)+5"
   ]
  },
  {
   "cell_type": "code",
   "execution_count": 7,
   "id": "452ad40c",
   "metadata": {},
   "outputs": [
    {
     "name": "stdout",
     "output_type": "stream",
     "text": [
      "200 minitues= 3.3333333333333335 hours\n"
     ]
    }
   ],
   "source": [
    "# This will convert 200 minutes to hours by diving by 60\n",
    "\n",
    "print(\"200 minitues=\",200/60,\"hours\")"
   ]
  },
  {
   "cell_type": "markdown",
   "id": "b933f74f",
   "metadata": {},
   "source": [
    "<p><b>Objectives:</b></p>\n",
    "\n",
    "<ul>\n",
    "    <li>Creating jupyter notebook</li>\n",
    "    <li>List popular languages for Data Science</li>\n",
    "    <li>Some of the commonly used libraries used by Data Scientists</li>\n",
    "    <li>Data Science Tools</li>\n",
    "    <li>Arithmatic expression</li>\n",
    "</ul>"
   ]
  },
  {
   "cell_type": "markdown",
   "id": "6538c44b",
   "metadata": {},
   "source": [
    "<h2>Author</h2>\n",
    "<p>Rathan R Nayak</p>"
   ]
  },
  {
   "cell_type": "code",
   "execution_count": null,
   "id": "c8c6887d",
   "metadata": {},
   "outputs": [],
   "source": []
  }
 ],
 "metadata": {
  "kernelspec": {
   "display_name": "Python 3 (ipykernel)",
   "language": "python",
   "name": "python3"
  },
  "language_info": {
   "codemirror_mode": {
    "name": "ipython",
    "version": 3
   },
   "file_extension": ".py",
   "mimetype": "text/x-python",
   "name": "python",
   "nbconvert_exporter": "python",
   "pygments_lexer": "ipython3",
   "version": "3.9.13"
  }
 },
 "nbformat": 4,
 "nbformat_minor": 5
}
